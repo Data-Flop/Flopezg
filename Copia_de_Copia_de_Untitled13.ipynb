{
  "nbformat": 4,
  "nbformat_minor": 0,
  "metadata": {
    "colab": {
      "name": "Copia de Copia de Untitled13.ipynb",
      "provenance": [],
      "collapsed_sections": [],
      "authorship_tag": "ABX9TyMlPnwpGhbTQzDEImrDjDxx",
      "include_colab_link": true
    },
    "kernelspec": {
      "name": "python3",
      "display_name": "Python 3"
    },
    "language_info": {
      "name": "python"
    }
  },
  "cells": [
    {
      "cell_type": "markdown",
      "metadata": {
        "id": "view-in-github",
        "colab_type": "text"
      },
      "source": [
        "<a href=\"https://colab.research.google.com/github/Data-Flop/Flopezg/blob/master/Copia_de_Copia_de_Untitled13.ipynb\" target=\"_parent\"><img src=\"https://colab.research.google.com/assets/colab-badge.svg\" alt=\"Open In Colab\"/></a>"
      ]
    },
    {
      "cell_type": "code",
      "metadata": {
        "colab": {
          "base_uri": "https://localhost:8080/"
        },
        "id": "yhyaQHWjye-q",
        "outputId": "4dbef3b0-4a34-4314-d366-79fc263aa56b"
      },
      "source": [
        "# instalar tensorflow\n",
        "import tensorflow as tf\n",
        "print(tf.__version__)\n",
        "from google.colab import files\n",
        "import io\n",
        "import numpy as np\n",
        "import pandas as pd\n",
        "from sklearn.preprocessing import OneHotEncoder\n",
        "# from keras.utils.np_utils import to_categorical # convert to one-hot-encoding\n",
        "from sklearn.model_selection import train_test_split\n",
        "from sklearn.preprocessing import StandardScaler\n",
        "\n",
        "\n",
        "from tensorflow import keras\n",
        "from tensorflow.keras import Sequential\n",
        "from tensorflow.keras.layers import Flatten, Dense, Dropout, BatchNormalization\n",
        "from tensorflow.keras.layers import Conv1D, MaxPool1D\n",
        "from tensorflow.keras.preprocessing.image import ImageDataGenerator\n",
        "from tensorflow.keras.optimizers import Adam\n",
        "\n"
      ],
      "execution_count": null,
      "outputs": [
        {
          "output_type": "stream",
          "text": [
            "2.4.1\n"
          ],
          "name": "stdout"
        }
      ]
    },
    {
      "cell_type": "code",
      "metadata": {
        "colab": {
          "resources": {
            "http://localhost:8080/nbextensions/google.colab/files.js": {
              "data": "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",
              "ok": true,
              "headers": [
                [
                  "content-type",
                  "application/javascript"
                ]
              ],
              "status": 200,
              "status_text": ""
            }
          },
          "base_uri": "https://localhost:8080/",
          "height": 72
        },
        "id": "VEDCB1JZvhVR",
        "outputId": "9bbb7d4a-4fc5-4c18-8464-b6824947ee58"
      },
      "source": [
        "uploaded = files.upload()\n",
        "# pd.read_csv(io.StringIO(uploaded['baseG1_dpr.csv'].decode('utf-8')))\n",
        "df = pd.read_csv('baseG1_dpr.csv')"
      ],
      "execution_count": null,
      "outputs": [
        {
          "output_type": "display_data",
          "data": {
            "text/html": [
              "\n",
              "     <input type=\"file\" id=\"files-4b5bfa75-f1d8-4617-a7e0-d1fc76da0095\" name=\"files[]\" multiple disabled\n",
              "        style=\"border:none\" />\n",
              "     <output id=\"result-4b5bfa75-f1d8-4617-a7e0-d1fc76da0095\">\n",
              "      Upload widget is only available when the cell has been executed in the\n",
              "      current browser session. Please rerun this cell to enable.\n",
              "      </output>\n",
              "      <script src=\"/nbextensions/google.colab/files.js\"></script> "
            ],
            "text/plain": [
              "<IPython.core.display.HTML object>"
            ]
          },
          "metadata": {
            "tags": []
          }
        },
        {
          "output_type": "stream",
          "text": [
            "Saving baseG1_dpr.csv to baseG1_dpr.csv\n"
          ],
          "name": "stdout"
        }
      ]
    },
    {
      "cell_type": "code",
      "metadata": {
        "colab": {
          "base_uri": "https://localhost:8080/",
          "height": 456
        },
        "id": "O2TocdzvBHdd",
        "outputId": "8cdcccc2-6da9-4ca4-92bd-cb069bc647bb"
      },
      "source": [
        "dfx"
      ],
      "execution_count": null,
      "outputs": [
        {
          "output_type": "execute_result",
          "data": {
            "text/html": [
              "<div>\n",
              "<style scoped>\n",
              "    .dataframe tbody tr th:only-of-type {\n",
              "        vertical-align: middle;\n",
              "    }\n",
              "\n",
              "    .dataframe tbody tr th {\n",
              "        vertical-align: top;\n",
              "    }\n",
              "\n",
              "    .dataframe thead th {\n",
              "        text-align: right;\n",
              "    }\n",
              "</style>\n",
              "<table border=\"1\" class=\"dataframe\">\n",
              "  <thead>\n",
              "    <tr style=\"text-align: right;\">\n",
              "      <th></th>\n",
              "      <th>IND2</th>\n",
              "      <th>IND3</th>\n",
              "      <th>IND4</th>\n",
              "      <th>IND5</th>\n",
              "      <th>IND6</th>\n",
              "      <th>IND7</th>\n",
              "      <th>IND8</th>\n",
              "      <th>IND9</th>\n",
              "      <th>IND10</th>\n",
              "      <th>IND11</th>\n",
              "      <th>IND12</th>\n",
              "      <th>IND13</th>\n",
              "      <th>IND14</th>\n",
              "      <th>IND15</th>\n",
              "      <th>IND16</th>\n",
              "      <th>IND17</th>\n",
              "      <th>IND18</th>\n",
              "      <th>IND19</th>\n",
              "      <th>IND20</th>\n",
              "      <th>IND21</th>\n",
              "      <th>IND22</th>\n",
              "      <th>IND23</th>\n",
              "      <th>IND24</th>\n",
              "      <th>IND25</th>\n",
              "      <th>IND26</th>\n",
              "      <th>IND27</th>\n",
              "      <th>IND28</th>\n",
              "      <th>IND29</th>\n",
              "      <th>IND30</th>\n",
              "    </tr>\n",
              "  </thead>\n",
              "  <tbody>\n",
              "    <tr>\n",
              "      <th>0</th>\n",
              "      <td>488098647,25</td>\n",
              "      <td>419918767,18</td>\n",
              "      <td>68179879,93</td>\n",
              "      <td>666592,8</td>\n",
              "      <td>102820178,08</td>\n",
              "      <td>10917331,1</td>\n",
              "      <td>330367457,41</td>\n",
              "      <td>0,03730262331712</td>\n",
              "      <td>0,030461061143571</td>\n",
              "      <td>0,93383648361929</td>\n",
              "      <td>0,02886089306359</td>\n",
              "      <td>0,013220493308394</td>\n",
              "      <td>0,014137661398664</td>\n",
              "      <td>0,009944468610063</td>\n",
              "      <td>193641946,17</td>\n",
              "      <td>89680083,95</td>\n",
              "      <td>37907582,27</td>\n",
              "      <td>9137845,02</td>\n",
              "      <td>0,000788837855153</td>\n",
              "      <td>381726054,89</td>\n",
              "      <td>41858635,08</td>\n",
              "      <td>21700403,16</td>\n",
              "      <td>63559038,24</td>\n",
              "      <td>24368239,47</td>\n",
              "      <td>0,157548016427129</td>\n",
              "      <td>0,518421184028727</td>\n",
              "      <td>0,383395346197422</td>\n",
              "      <td>0,016511973209321</td>\n",
              "      <td>0,12384275500778</td>\n",
              "    </tr>\n",
              "    <tr>\n",
              "      <th>1</th>\n",
              "      <td>11230224,37</td>\n",
              "      <td>5872957,07</td>\n",
              "      <td>5357267,27</td>\n",
              "      <td>21104,69</td>\n",
              "      <td>8604309,34</td>\n",
              "      <td>995792,66</td>\n",
              "      <td>274833,74</td>\n",
              "      <td>0</td>\n",
              "      <td>0</td>\n",
              "      <td>1</td>\n",
              "      <td>0</td>\n",
              "      <td>0</td>\n",
              "      <td>0</td>\n",
              "      <td>0</td>\n",
              "      <td>274833,74</td>\n",
              "      <td>0</td>\n",
              "      <td>0</td>\n",
              "      <td>0</td>\n",
              "      <td>0,002403818402072</td>\n",
              "      <td>6893508,94</td>\n",
              "      <td>3266402,06</td>\n",
              "      <td>646070,07</td>\n",
              "      <td>3821183,2</td>\n",
              "      <td>2902833,87</td>\n",
              "      <td>39,0062217514415</td>\n",
              "      <td>0,19779257364294</td>\n",
              "      <td>0,759668855971103</td>\n",
              "      <td>0,022785867862889</td>\n",
              "      <td>0,048311249849513</td>\n",
              "    </tr>\n",
              "    <tr>\n",
              "      <th>2</th>\n",
              "      <td>26763914,41</td>\n",
              "      <td>23536376,53</td>\n",
              "      <td>3227537,8</td>\n",
              "      <td>54259,04</td>\n",
              "      <td>935218,63</td>\n",
              "      <td>127509,63</td>\n",
              "      <td>20958090,79</td>\n",
              "      <td>0,044715677647868</td>\n",
              "      <td>0,031941709775674</td>\n",
              "      <td>0,914169261272589</td>\n",
              "      <td>0,041378162353437</td>\n",
              "      <td>0,015520729612704</td>\n",
              "      <td>0,020568687877949</td>\n",
              "      <td>0,008626260157214</td>\n",
              "      <td>15508881,85</td>\n",
              "      <td>4386310,9</td>\n",
              "      <td>589599,45</td>\n",
              "      <td>473298,59</td>\n",
              "      <td>0,000502344679259</td>\n",
              "      <td>22128385,44</td>\n",
              "      <td>2553858,6</td>\n",
              "      <td>179351,56</td>\n",
              "      <td>2733210,16</td>\n",
              "      <td>369561,89</td>\n",
              "      <td>12,1638993896829</td>\n",
              "      <td>0,070227678227761</td>\n",
              "      <td>0,135211662611411</td>\n",
              "      <td>0,02460095288998</td>\n",
              "      <td>0,221474099215825</td>\n",
              "    </tr>\n",
              "    <tr>\n",
              "      <th>3</th>\n",
              "      <td>2287421,93</td>\n",
              "      <td>1837628,63</td>\n",
              "      <td>449793,23</td>\n",
              "      <td>3557,24</td>\n",
              "      <td>89581,78</td>\n",
              "      <td>0</td>\n",
              "      <td>2029390</td>\n",
              "      <td>0,05175315963256</td>\n",
              "      <td>0,0492688325874</td>\n",
              "      <td>0,930783251941679</td>\n",
              "      <td>0,022887583818486</td>\n",
              "      <td>0,014076287691955</td>\n",
              "      <td>0,017923462927579</td>\n",
              "      <td>0,019753409013025</td>\n",
              "      <td>215362,03</td>\n",
              "      <td>1475308,49</td>\n",
              "      <td>217080,55</td>\n",
              "      <td>121638,93</td>\n",
              "      <td>0,000832832795303</td>\n",
              "      <td>1966952,37</td>\n",
              "      <td>355265,93</td>\n",
              "      <td>21032,68</td>\n",
              "      <td>376298,61</td>\n",
              "      <td>30609,02</td>\n",
              "      <td>18,8378996452269</td>\n",
              "      <td>0,059202637303273</td>\n",
              "      <td>0,081342367966759</td>\n",
              "      <td>0,018822014837348</td>\n",
              "      <td>0,099142170404474</td>\n",
              "    </tr>\n",
              "    <tr>\n",
              "      <th>4</th>\n",
              "      <td>67499590,98</td>\n",
              "      <td>54241184,66</td>\n",
              "      <td>13258406,32</td>\n",
              "      <td>170101,56</td>\n",
              "      <td>18178783,21</td>\n",
              "      <td>290568,99</td>\n",
              "      <td>42374706,62</td>\n",
              "      <td>0,033782874630345</td>\n",
              "      <td>0,024643019989834</td>\n",
              "      <td>0,956041346597868</td>\n",
              "      <td>0,0214501006917</td>\n",
              "      <td>0,021269380721805</td>\n",
              "      <td>0,007689597036133</td>\n",
              "      <td>0,004823896872406</td>\n",
              "      <td>32613502,72</td>\n",
              "      <td>7978166,43</td>\n",
              "      <td>1454841,55</td>\n",
              "      <td>328195,92</td>\n",
              "      <td>0,000611371408343</td>\n",
              "      <td>60473459,96</td>\n",
              "      <td>8924961,11</td>\n",
              "      <td>3347709,62</td>\n",
              "      <td>12272670,73</td>\n",
              "      <td>4315371,93</td>\n",
              "      <td>18,95</td>\n",
              "      <td>0,375095149294158</td>\n",
              "      <td>0,35162451799927</td>\n",
              "      <td>0,030663140611106</td>\n",
              "      <td>0,165298554664739</td>\n",
              "    </tr>\n",
              "    <tr>\n",
              "      <th>...</th>\n",
              "      <td>...</td>\n",
              "      <td>...</td>\n",
              "      <td>...</td>\n",
              "      <td>...</td>\n",
              "      <td>...</td>\n",
              "      <td>...</td>\n",
              "      <td>...</td>\n",
              "      <td>...</td>\n",
              "      <td>...</td>\n",
              "      <td>...</td>\n",
              "      <td>...</td>\n",
              "      <td>...</td>\n",
              "      <td>...</td>\n",
              "      <td>...</td>\n",
              "      <td>...</td>\n",
              "      <td>...</td>\n",
              "      <td>...</td>\n",
              "      <td>...</td>\n",
              "      <td>...</td>\n",
              "      <td>...</td>\n",
              "      <td>...</td>\n",
              "      <td>...</td>\n",
              "      <td>...</td>\n",
              "      <td>...</td>\n",
              "      <td>...</td>\n",
              "      <td>...</td>\n",
              "      <td>...</td>\n",
              "      <td>...</td>\n",
              "      <td>...</td>\n",
              "    </tr>\n",
              "    <tr>\n",
              "      <th>4673</th>\n",
              "      <td>542585,67</td>\n",
              "      <td>465442,36</td>\n",
              "      <td>77143,3</td>\n",
              "      <td>109,04</td>\n",
              "      <td>41971,81</td>\n",
              "      <td>0</td>\n",
              "      <td>396541,77</td>\n",
              "      <td>0,032839995645352</td>\n",
              "      <td>0,03946245057614</td>\n",
              "      <td>0,923206196492395</td>\n",
              "      <td>0,020000718209351</td>\n",
              "      <td>0,0081139247478</td>\n",
              "      <td>0,018182322083808</td>\n",
              "      <td>0,030496838466647</td>\n",
              "      <td>132497,63</td>\n",
              "      <td>168011,97</td>\n",
              "      <td>11291,4</td>\n",
              "      <td>84740,76</td>\n",
              "      <td>0</td>\n",
              "      <td>416092,80961</td>\n",
              "      <td>70095,34712</td>\n",
              "      <td>15879,93934</td>\n",
              "      <td>85975,28646</td>\n",
              "      <td>546,641</td>\n",
              "      <td>0,203652507720187</td>\n",
              "      <td>0,226547695281604</td>\n",
              "      <td>0,006358117809288</td>\n",
              "      <td>0,000200963656117</td>\n",
              "      <td>0,001413473367097</td>\n",
              "    </tr>\n",
              "    <tr>\n",
              "      <th>4674</th>\n",
              "      <td>1174970,46</td>\n",
              "      <td>646826,35</td>\n",
              "      <td>528144,1</td>\n",
              "      <td>50023,57</td>\n",
              "      <td>115872,97</td>\n",
              "      <td>0</td>\n",
              "      <td>1015844,7</td>\n",
              "      <td>0,082934615891583</td>\n",
              "      <td>0,101572632115913</td>\n",
              "      <td>0,859151696300659</td>\n",
              "      <td>0,046343974553275</td>\n",
              "      <td>0,020470235666342</td>\n",
              "      <td>0,023128762164704</td>\n",
              "      <td>0,05090533131502</td>\n",
              "      <td>72077,25</td>\n",
              "      <td>814671,65</td>\n",
              "      <td>431,42</td>\n",
              "      <td>128664,36</td>\n",
              "      <td>0</td>\n",
              "      <td>908422,5532</td>\n",
              "      <td>368286,28904</td>\n",
              "      <td>31300,78817</td>\n",
              "      <td>399587,07721</td>\n",
              "      <td>0</td>\n",
              "      <td>0,439869172999304</td>\n",
              "      <td>0,084990370539155</td>\n",
              "      <td>0</td>\n",
              "      <td>0,042574321400387</td>\n",
              "      <td>0,094715760338892</td>\n",
              "    </tr>\n",
              "    <tr>\n",
              "      <th>4675</th>\n",
              "      <td>280796,83</td>\n",
              "      <td>243562,53</td>\n",
              "      <td>37234,27</td>\n",
              "      <td>601,77</td>\n",
              "      <td>10641,52</td>\n",
              "      <td>0</td>\n",
              "      <td>230914,36</td>\n",
              "      <td>0,021788424072024</td>\n",
              "      <td>0,039420805185091</td>\n",
              "      <td>0,919714441344017</td>\n",
              "      <td>0,044764773852542</td>\n",
              "      <td>0,009606071306603</td>\n",
              "      <td>0,012877846758612</td>\n",
              "      <td>0,013036866738226</td>\n",
              "      <td>55698,94</td>\n",
              "      <td>143967,89</td>\n",
              "      <td>28272,68</td>\n",
              "      <td>2974,87</td>\n",
              "      <td>0</td>\n",
              "      <td>225420,63562</td>\n",
              "      <td>28079,83556</td>\n",
              "      <td>1324,84899</td>\n",
              "      <td>29404,68454</td>\n",
              "      <td>1,374</td>\n",
              "      <td>0,130434789852633</td>\n",
              "      <td>0,047181508138433</td>\n",
              "      <td>4,67272484467878E-05</td>\n",
              "      <td>0,002143079749155</td>\n",
              "      <td>0,016161724132097</td>\n",
              "    </tr>\n",
              "    <tr>\n",
              "      <th>4676</th>\n",
              "      <td>941986,53</td>\n",
              "      <td>789636,33</td>\n",
              "      <td>152350,19</td>\n",
              "      <td>1780,38</td>\n",
              "      <td>98998,98</td>\n",
              "      <td>0</td>\n",
              "      <td>680682,19</td>\n",
              "      <td>0,040016766121059</td>\n",
              "      <td>0,052106842989384</td>\n",
              "      <td>0,917813262667758</td>\n",
              "      <td>0,020746112932788</td>\n",
              "      <td>0,016148828099973</td>\n",
              "      <td>0,031769803415312</td>\n",
              "      <td>0,013521992884168</td>\n",
              "      <td>46559,89</td>\n",
              "      <td>544898,17</td>\n",
              "      <td>71508,28</td>\n",
              "      <td>17715,87</td>\n",
              "      <td>0,000557672517886</td>\n",
              "      <td>680050,67117</td>\n",
              "      <td>114780,60446</td>\n",
              "      <td>9384,06066</td>\n",
              "      <td>124164,66512</td>\n",
              "      <td>1822,245</td>\n",
              "      <td>0,177302653830211</td>\n",
              "      <td>0,081756501493859</td>\n",
              "      <td>0,014676035233042</td>\n",
              "      <td>0,001890027026183</td>\n",
              "      <td>0,011686102918546</td>\n",
              "    </tr>\n",
              "    <tr>\n",
              "      <th>4677</th>\n",
              "      <td>1229942,35</td>\n",
              "      <td>1000288,64</td>\n",
              "      <td>229653,68</td>\n",
              "      <td>172,71</td>\n",
              "      <td>66400,37</td>\n",
              "      <td>0</td>\n",
              "      <td>946951,98</td>\n",
              "      <td>0,018677568000861</td>\n",
              "      <td>0,027323180632665</td>\n",
              "      <td>0,909795521946155</td>\n",
              "      <td>0,032985125254344</td>\n",
              "      <td>0,016999922034062</td>\n",
              "      <td>0,027996678057565</td>\n",
              "      <td>0,012222752707875</td>\n",
              "      <td>214007,03</td>\n",
              "      <td>324486,17</td>\n",
              "      <td>319323,79</td>\n",
              "      <td>89135</td>\n",
              "      <td>0,000238824201801</td>\n",
              "      <td>833222,1787</td>\n",
              "      <td>200321,2488</td>\n",
              "      <td>5387,02705</td>\n",
              "      <td>205708,27586</td>\n",
              "      <td>1311,006</td>\n",
              "      <td>0,242640913251189</td>\n",
              "      <td>0,026891940232353</td>\n",
              "      <td>0,006373132021641</td>\n",
              "      <td>0,000140421215677</td>\n",
              "      <td>0,000752045427707</td>\n",
              "    </tr>\n",
              "  </tbody>\n",
              "</table>\n",
              "<p>4678 rows × 29 columns</p>\n",
              "</div>"
            ],
            "text/plain": [
              "              IND2          IND3  ...              IND29              IND30\n",
              "0     488098647,25  419918767,18  ...  0,016511973209321   0,12384275500778\n",
              "1      11230224,37    5872957,07  ...  0,022785867862889  0,048311249849513\n",
              "2      26763914,41   23536376,53  ...   0,02460095288998  0,221474099215825\n",
              "3       2287421,93    1837628,63  ...  0,018822014837348  0,099142170404474\n",
              "4      67499590,98   54241184,66  ...  0,030663140611106  0,165298554664739\n",
              "...            ...           ...  ...                ...                ...\n",
              "4673     542585,67     465442,36  ...  0,000200963656117  0,001413473367097\n",
              "4674    1174970,46     646826,35  ...  0,042574321400387  0,094715760338892\n",
              "4675     280796,83     243562,53  ...  0,002143079749155  0,016161724132097\n",
              "4676     941986,53     789636,33  ...  0,001890027026183  0,011686102918546\n",
              "4677    1229942,35    1000288,64  ...  0,000140421215677  0,000752045427707\n",
              "\n",
              "[4678 rows x 29 columns]"
            ]
          },
          "metadata": {
            "tags": []
          },
          "execution_count": 28
        }
      ]
    },
    {
      "cell_type": "code",
      "metadata": {
        "id": "GorNqtBKypZs"
      },
      "source": [
        "df = pd.read_csv(io.BytesIO(uploaded['baseG1_dpr.csv']), dtype='str')\n",
        "dfx = df.drop(['Banco','IND1'],axis=1)\n",
        "for i in dfx.columns: \n",
        "  dfx[i] = dfx[i].str.replace(r',', '.')  \n",
        "  dfx[i] = dfx[i].str.replace(r'\\s', '')  \n",
        "  dfx[i] = pd.to_numeric(dfx[i])\n",
        "\n",
        "# df['result'] = df['result'].str.replace(r'\\D', '')\n"
      ],
      "execution_count": null,
      "outputs": []
    },
    {
      "cell_type": "code",
      "metadata": {
        "colab": {
          "base_uri": "https://localhost:8080/",
          "height": 439
        },
        "id": "DraGZifoRMDV",
        "outputId": "341d73a8-7ac4-4948-940a-23070ebef41d"
      },
      "source": [
        "dfx"
      ],
      "execution_count": null,
      "outputs": [
        {
          "output_type": "execute_result",
          "data": {
            "text/html": [
              "<div>\n",
              "<style scoped>\n",
              "    .dataframe tbody tr th:only-of-type {\n",
              "        vertical-align: middle;\n",
              "    }\n",
              "\n",
              "    .dataframe tbody tr th {\n",
              "        vertical-align: top;\n",
              "    }\n",
              "\n",
              "    .dataframe thead th {\n",
              "        text-align: right;\n",
              "    }\n",
              "</style>\n",
              "<table border=\"1\" class=\"dataframe\">\n",
              "  <thead>\n",
              "    <tr style=\"text-align: right;\">\n",
              "      <th></th>\n",
              "      <th>IND2</th>\n",
              "      <th>IND3</th>\n",
              "      <th>IND4</th>\n",
              "      <th>IND5</th>\n",
              "      <th>IND6</th>\n",
              "      <th>IND7</th>\n",
              "      <th>IND8</th>\n",
              "      <th>IND9</th>\n",
              "      <th>IND10</th>\n",
              "      <th>IND11</th>\n",
              "      <th>IND12</th>\n",
              "      <th>IND13</th>\n",
              "      <th>IND14</th>\n",
              "      <th>IND15</th>\n",
              "      <th>IND16</th>\n",
              "      <th>IND17</th>\n",
              "      <th>IND18</th>\n",
              "      <th>IND19</th>\n",
              "      <th>IND20</th>\n",
              "      <th>IND21</th>\n",
              "      <th>IND22</th>\n",
              "      <th>IND23</th>\n",
              "      <th>IND24</th>\n",
              "      <th>IND25</th>\n",
              "      <th>IND26</th>\n",
              "      <th>IND27</th>\n",
              "      <th>IND28</th>\n",
              "      <th>IND29</th>\n",
              "      <th>IND30</th>\n",
              "    </tr>\n",
              "  </thead>\n",
              "  <tbody>\n",
              "    <tr>\n",
              "      <th>0</th>\n",
              "      <td>4.880986e+08</td>\n",
              "      <td>4.199188e+08</td>\n",
              "      <td>68179879.93</td>\n",
              "      <td>666592.80</td>\n",
              "      <td>1.028202e+08</td>\n",
              "      <td>10917331.10</td>\n",
              "      <td>3.303675e+08</td>\n",
              "      <td>0.037303</td>\n",
              "      <td>0.030461</td>\n",
              "      <td>0.933836</td>\n",
              "      <td>0.028861</td>\n",
              "      <td>0.013220</td>\n",
              "      <td>0.014138</td>\n",
              "      <td>0.009944</td>\n",
              "      <td>1.936419e+08</td>\n",
              "      <td>89680083.95</td>\n",
              "      <td>37907582.27</td>\n",
              "      <td>9137845.02</td>\n",
              "      <td>0.000789</td>\n",
              "      <td>3.817261e+08</td>\n",
              "      <td>4.185864e+07</td>\n",
              "      <td>2.170040e+07</td>\n",
              "      <td>6.355904e+07</td>\n",
              "      <td>2.436824e+07</td>\n",
              "      <td>0.157548</td>\n",
              "      <td>0.518421</td>\n",
              "      <td>0.383395</td>\n",
              "      <td>0.016512</td>\n",
              "      <td>0.123843</td>\n",
              "    </tr>\n",
              "    <tr>\n",
              "      <th>1</th>\n",
              "      <td>1.123022e+07</td>\n",
              "      <td>5.872957e+06</td>\n",
              "      <td>5357267.27</td>\n",
              "      <td>21104.69</td>\n",
              "      <td>8.604309e+06</td>\n",
              "      <td>995792.66</td>\n",
              "      <td>2.748337e+05</td>\n",
              "      <td>0.000000</td>\n",
              "      <td>0.000000</td>\n",
              "      <td>1.000000</td>\n",
              "      <td>0.000000</td>\n",
              "      <td>0.000000</td>\n",
              "      <td>0.000000</td>\n",
              "      <td>0.000000</td>\n",
              "      <td>2.748337e+05</td>\n",
              "      <td>0.00</td>\n",
              "      <td>0.00</td>\n",
              "      <td>0.00</td>\n",
              "      <td>0.002404</td>\n",
              "      <td>6.893509e+06</td>\n",
              "      <td>3.266402e+06</td>\n",
              "      <td>6.460701e+05</td>\n",
              "      <td>3.821183e+06</td>\n",
              "      <td>2.902834e+06</td>\n",
              "      <td>39.006222</td>\n",
              "      <td>0.197793</td>\n",
              "      <td>0.759669</td>\n",
              "      <td>0.022786</td>\n",
              "      <td>0.048311</td>\n",
              "    </tr>\n",
              "    <tr>\n",
              "      <th>2</th>\n",
              "      <td>2.676391e+07</td>\n",
              "      <td>2.353638e+07</td>\n",
              "      <td>3227537.80</td>\n",
              "      <td>54259.04</td>\n",
              "      <td>9.352186e+05</td>\n",
              "      <td>127509.63</td>\n",
              "      <td>2.095809e+07</td>\n",
              "      <td>0.044716</td>\n",
              "      <td>0.031942</td>\n",
              "      <td>0.914169</td>\n",
              "      <td>0.041378</td>\n",
              "      <td>0.015521</td>\n",
              "      <td>0.020569</td>\n",
              "      <td>0.008626</td>\n",
              "      <td>1.550888e+07</td>\n",
              "      <td>4386310.90</td>\n",
              "      <td>589599.45</td>\n",
              "      <td>473298.59</td>\n",
              "      <td>0.000502</td>\n",
              "      <td>2.212839e+07</td>\n",
              "      <td>2.553859e+06</td>\n",
              "      <td>1.793516e+05</td>\n",
              "      <td>2.733210e+06</td>\n",
              "      <td>3.695619e+05</td>\n",
              "      <td>12.163899</td>\n",
              "      <td>0.070228</td>\n",
              "      <td>0.135212</td>\n",
              "      <td>0.024601</td>\n",
              "      <td>0.221474</td>\n",
              "    </tr>\n",
              "    <tr>\n",
              "      <th>3</th>\n",
              "      <td>2.287422e+06</td>\n",
              "      <td>1.837629e+06</td>\n",
              "      <td>449793.23</td>\n",
              "      <td>3557.24</td>\n",
              "      <td>8.958178e+04</td>\n",
              "      <td>0.00</td>\n",
              "      <td>2.029390e+06</td>\n",
              "      <td>0.051753</td>\n",
              "      <td>0.049269</td>\n",
              "      <td>0.930783</td>\n",
              "      <td>0.022888</td>\n",
              "      <td>0.014076</td>\n",
              "      <td>0.017923</td>\n",
              "      <td>0.019753</td>\n",
              "      <td>2.153620e+05</td>\n",
              "      <td>1475308.49</td>\n",
              "      <td>217080.55</td>\n",
              "      <td>121638.93</td>\n",
              "      <td>0.000833</td>\n",
              "      <td>1.966952e+06</td>\n",
              "      <td>3.552659e+05</td>\n",
              "      <td>2.103268e+04</td>\n",
              "      <td>3.762986e+05</td>\n",
              "      <td>3.060902e+04</td>\n",
              "      <td>18.837900</td>\n",
              "      <td>0.059203</td>\n",
              "      <td>0.081342</td>\n",
              "      <td>0.018822</td>\n",
              "      <td>0.099142</td>\n",
              "    </tr>\n",
              "    <tr>\n",
              "      <th>4</th>\n",
              "      <td>6.749959e+07</td>\n",
              "      <td>5.424118e+07</td>\n",
              "      <td>13258406.32</td>\n",
              "      <td>170101.56</td>\n",
              "      <td>1.817878e+07</td>\n",
              "      <td>290568.99</td>\n",
              "      <td>4.237471e+07</td>\n",
              "      <td>0.033783</td>\n",
              "      <td>0.024643</td>\n",
              "      <td>0.956041</td>\n",
              "      <td>0.021450</td>\n",
              "      <td>0.021269</td>\n",
              "      <td>0.007690</td>\n",
              "      <td>0.004824</td>\n",
              "      <td>3.261350e+07</td>\n",
              "      <td>7978166.43</td>\n",
              "      <td>1454841.55</td>\n",
              "      <td>328195.92</td>\n",
              "      <td>0.000611</td>\n",
              "      <td>6.047346e+07</td>\n",
              "      <td>8.924961e+06</td>\n",
              "      <td>3.347710e+06</td>\n",
              "      <td>1.227267e+07</td>\n",
              "      <td>4.315372e+06</td>\n",
              "      <td>18.950000</td>\n",
              "      <td>0.375095</td>\n",
              "      <td>0.351625</td>\n",
              "      <td>0.030663</td>\n",
              "      <td>0.165299</td>\n",
              "    </tr>\n",
              "    <tr>\n",
              "      <th>...</th>\n",
              "      <td>...</td>\n",
              "      <td>...</td>\n",
              "      <td>...</td>\n",
              "      <td>...</td>\n",
              "      <td>...</td>\n",
              "      <td>...</td>\n",
              "      <td>...</td>\n",
              "      <td>...</td>\n",
              "      <td>...</td>\n",
              "      <td>...</td>\n",
              "      <td>...</td>\n",
              "      <td>...</td>\n",
              "      <td>...</td>\n",
              "      <td>...</td>\n",
              "      <td>...</td>\n",
              "      <td>...</td>\n",
              "      <td>...</td>\n",
              "      <td>...</td>\n",
              "      <td>...</td>\n",
              "      <td>...</td>\n",
              "      <td>...</td>\n",
              "      <td>...</td>\n",
              "      <td>...</td>\n",
              "      <td>...</td>\n",
              "      <td>...</td>\n",
              "      <td>...</td>\n",
              "      <td>...</td>\n",
              "      <td>...</td>\n",
              "      <td>...</td>\n",
              "    </tr>\n",
              "    <tr>\n",
              "      <th>4673</th>\n",
              "      <td>5.425857e+05</td>\n",
              "      <td>4.654424e+05</td>\n",
              "      <td>77143.30</td>\n",
              "      <td>109.04</td>\n",
              "      <td>4.197181e+04</td>\n",
              "      <td>0.00</td>\n",
              "      <td>3.965418e+05</td>\n",
              "      <td>0.032840</td>\n",
              "      <td>0.039462</td>\n",
              "      <td>0.923206</td>\n",
              "      <td>0.020001</td>\n",
              "      <td>0.008114</td>\n",
              "      <td>0.018182</td>\n",
              "      <td>0.030497</td>\n",
              "      <td>1.324976e+05</td>\n",
              "      <td>168011.97</td>\n",
              "      <td>11291.40</td>\n",
              "      <td>84740.76</td>\n",
              "      <td>0.000000</td>\n",
              "      <td>4.160928e+05</td>\n",
              "      <td>7.009535e+04</td>\n",
              "      <td>1.587994e+04</td>\n",
              "      <td>8.597529e+04</td>\n",
              "      <td>5.466410e+02</td>\n",
              "      <td>0.203653</td>\n",
              "      <td>0.226548</td>\n",
              "      <td>0.006358</td>\n",
              "      <td>0.000201</td>\n",
              "      <td>0.001413</td>\n",
              "    </tr>\n",
              "    <tr>\n",
              "      <th>4674</th>\n",
              "      <td>1.174970e+06</td>\n",
              "      <td>6.468263e+05</td>\n",
              "      <td>528144.10</td>\n",
              "      <td>50023.57</td>\n",
              "      <td>1.158730e+05</td>\n",
              "      <td>0.00</td>\n",
              "      <td>1.015845e+06</td>\n",
              "      <td>0.082935</td>\n",
              "      <td>0.101573</td>\n",
              "      <td>0.859152</td>\n",
              "      <td>0.046344</td>\n",
              "      <td>0.020470</td>\n",
              "      <td>0.023129</td>\n",
              "      <td>0.050905</td>\n",
              "      <td>7.207725e+04</td>\n",
              "      <td>814671.65</td>\n",
              "      <td>431.42</td>\n",
              "      <td>128664.36</td>\n",
              "      <td>0.000000</td>\n",
              "      <td>9.084226e+05</td>\n",
              "      <td>3.682863e+05</td>\n",
              "      <td>3.130079e+04</td>\n",
              "      <td>3.995871e+05</td>\n",
              "      <td>0.000000e+00</td>\n",
              "      <td>0.439869</td>\n",
              "      <td>0.084990</td>\n",
              "      <td>0.000000</td>\n",
              "      <td>0.042574</td>\n",
              "      <td>0.094716</td>\n",
              "    </tr>\n",
              "    <tr>\n",
              "      <th>4675</th>\n",
              "      <td>2.807968e+05</td>\n",
              "      <td>2.435625e+05</td>\n",
              "      <td>37234.27</td>\n",
              "      <td>601.77</td>\n",
              "      <td>1.064152e+04</td>\n",
              "      <td>0.00</td>\n",
              "      <td>2.309144e+05</td>\n",
              "      <td>0.021788</td>\n",
              "      <td>0.039421</td>\n",
              "      <td>0.919714</td>\n",
              "      <td>0.044765</td>\n",
              "      <td>0.009606</td>\n",
              "      <td>0.012878</td>\n",
              "      <td>0.013037</td>\n",
              "      <td>5.569894e+04</td>\n",
              "      <td>143967.89</td>\n",
              "      <td>28272.68</td>\n",
              "      <td>2974.87</td>\n",
              "      <td>0.000000</td>\n",
              "      <td>2.254206e+05</td>\n",
              "      <td>2.807984e+04</td>\n",
              "      <td>1.324849e+03</td>\n",
              "      <td>2.940468e+04</td>\n",
              "      <td>1.374000e+00</td>\n",
              "      <td>0.130435</td>\n",
              "      <td>0.047182</td>\n",
              "      <td>0.000047</td>\n",
              "      <td>0.002143</td>\n",
              "      <td>0.016162</td>\n",
              "    </tr>\n",
              "    <tr>\n",
              "      <th>4676</th>\n",
              "      <td>9.419865e+05</td>\n",
              "      <td>7.896363e+05</td>\n",
              "      <td>152350.19</td>\n",
              "      <td>1780.38</td>\n",
              "      <td>9.899898e+04</td>\n",
              "      <td>0.00</td>\n",
              "      <td>6.806822e+05</td>\n",
              "      <td>0.040017</td>\n",
              "      <td>0.052107</td>\n",
              "      <td>0.917813</td>\n",
              "      <td>0.020746</td>\n",
              "      <td>0.016149</td>\n",
              "      <td>0.031770</td>\n",
              "      <td>0.013522</td>\n",
              "      <td>4.655989e+04</td>\n",
              "      <td>544898.17</td>\n",
              "      <td>71508.28</td>\n",
              "      <td>17715.87</td>\n",
              "      <td>0.000558</td>\n",
              "      <td>6.800507e+05</td>\n",
              "      <td>1.147806e+05</td>\n",
              "      <td>9.384061e+03</td>\n",
              "      <td>1.241647e+05</td>\n",
              "      <td>1.822245e+03</td>\n",
              "      <td>0.177303</td>\n",
              "      <td>0.081757</td>\n",
              "      <td>0.014676</td>\n",
              "      <td>0.001890</td>\n",
              "      <td>0.011686</td>\n",
              "    </tr>\n",
              "    <tr>\n",
              "      <th>4677</th>\n",
              "      <td>1.229942e+06</td>\n",
              "      <td>1.000289e+06</td>\n",
              "      <td>229653.68</td>\n",
              "      <td>172.71</td>\n",
              "      <td>6.640037e+04</td>\n",
              "      <td>0.00</td>\n",
              "      <td>9.469520e+05</td>\n",
              "      <td>0.018678</td>\n",
              "      <td>0.027323</td>\n",
              "      <td>0.909796</td>\n",
              "      <td>0.032985</td>\n",
              "      <td>0.017000</td>\n",
              "      <td>0.027997</td>\n",
              "      <td>0.012223</td>\n",
              "      <td>2.140070e+05</td>\n",
              "      <td>324486.17</td>\n",
              "      <td>319323.79</td>\n",
              "      <td>89135.00</td>\n",
              "      <td>0.000239</td>\n",
              "      <td>8.332222e+05</td>\n",
              "      <td>2.003212e+05</td>\n",
              "      <td>5.387027e+03</td>\n",
              "      <td>2.057083e+05</td>\n",
              "      <td>1.311006e+03</td>\n",
              "      <td>0.242641</td>\n",
              "      <td>0.026892</td>\n",
              "      <td>0.006373</td>\n",
              "      <td>0.000140</td>\n",
              "      <td>0.000752</td>\n",
              "    </tr>\n",
              "  </tbody>\n",
              "</table>\n",
              "<p>4678 rows × 29 columns</p>\n",
              "</div>"
            ],
            "text/plain": [
              "              IND2          IND3         IND4  ...     IND28     IND29     IND30\n",
              "0     4.880986e+08  4.199188e+08  68179879.93  ...  0.383395  0.016512  0.123843\n",
              "1     1.123022e+07  5.872957e+06   5357267.27  ...  0.759669  0.022786  0.048311\n",
              "2     2.676391e+07  2.353638e+07   3227537.80  ...  0.135212  0.024601  0.221474\n",
              "3     2.287422e+06  1.837629e+06    449793.23  ...  0.081342  0.018822  0.099142\n",
              "4     6.749959e+07  5.424118e+07  13258406.32  ...  0.351625  0.030663  0.165299\n",
              "...            ...           ...          ...  ...       ...       ...       ...\n",
              "4673  5.425857e+05  4.654424e+05     77143.30  ...  0.006358  0.000201  0.001413\n",
              "4674  1.174970e+06  6.468263e+05    528144.10  ...  0.000000  0.042574  0.094716\n",
              "4675  2.807968e+05  2.435625e+05     37234.27  ...  0.000047  0.002143  0.016162\n",
              "4676  9.419865e+05  7.896363e+05    152350.19  ...  0.014676  0.001890  0.011686\n",
              "4677  1.229942e+06  1.000289e+06    229653.68  ...  0.006373  0.000140  0.000752\n",
              "\n",
              "[4678 rows x 29 columns]"
            ]
          },
          "metadata": {
            "tags": []
          },
          "execution_count": 37
        }
      ]
    },
    {
      "cell_type": "code",
      "metadata": {
        "colab": {
          "base_uri": "https://localhost:8080/"
        },
        "id": "aGK39h5NNH2k",
        "outputId": "85631ed8-6e4b-4bec-b375-728322265ea3"
      },
      "source": [
        "dfx.dtypes\n",
        "#pd.to_numeric(dfx['IND10']) \n",
        "#dfx['IND2'].astype('int')\n",
        "#df[\"IND2\"] = df[\"IND2\"].astype(str).astype(int)"
      ],
      "execution_count": null,
      "outputs": [
        {
          "output_type": "execute_result",
          "data": {
            "text/plain": [
              "IND2     float64\n",
              "IND3     float64\n",
              "IND4     float64\n",
              "IND5     float64\n",
              "IND6     float64\n",
              "IND7     float64\n",
              "IND8     float64\n",
              "IND9     float64\n",
              "IND10    float64\n",
              "IND11    float64\n",
              "IND12    float64\n",
              "IND13    float64\n",
              "IND14    float64\n",
              "IND15    float64\n",
              "IND16    float64\n",
              "IND17    float64\n",
              "IND18    float64\n",
              "IND19    float64\n",
              "IND20    float64\n",
              "IND21    float64\n",
              "IND22    float64\n",
              "IND23    float64\n",
              "IND24    float64\n",
              "IND25    float64\n",
              "IND26    float64\n",
              "IND27    float64\n",
              "IND28    float64\n",
              "IND29    float64\n",
              "IND30    float64\n",
              "dtype: object"
            ]
          },
          "metadata": {
            "tags": []
          },
          "execution_count": 38
        }
      ]
    },
    {
      "cell_type": "code",
      "metadata": {
        "colab": {
          "base_uri": "https://localhost:8080/",
          "height": 197
        },
        "id": "YV9oi_ENB7Rs",
        "outputId": "67b00b80-1192-4c10-f6d1-533aec54fcfd"
      },
      "source": [
        "# type(df)\n",
        "#dfx.dtypes\n",
        "dfx['IND2'].astype('float64')"
      ],
      "execution_count": null,
      "outputs": [
        {
          "output_type": "error",
          "ename": "KeyError",
          "evalue": "ignored",
          "traceback": [
            "\u001b[0;31m---------------------------------------------------------------------------\u001b[0m",
            "\u001b[0;31mKeyError\u001b[0m                                  Traceback (most recent call last)",
            "\u001b[0;32m<ipython-input-241-0570b4965682>\u001b[0m in \u001b[0;36m<module>\u001b[0;34m()\u001b[0m\n\u001b[1;32m      1\u001b[0m \u001b[0;31m# type(df)\u001b[0m\u001b[0;34m\u001b[0m\u001b[0;34m\u001b[0m\u001b[0;34m\u001b[0m\u001b[0m\n\u001b[1;32m      2\u001b[0m \u001b[0;31m#dfx.dtypes\u001b[0m\u001b[0;34m\u001b[0m\u001b[0;34m\u001b[0m\u001b[0;34m\u001b[0m\u001b[0m\n\u001b[0;32m----> 3\u001b[0;31m \u001b[0mdfx\u001b[0m\u001b[0;34m[\u001b[0m\u001b[0;34m'IND2'\u001b[0m\u001b[0;34m]\u001b[0m\u001b[0;34m.\u001b[0m\u001b[0mastype\u001b[0m\u001b[0;34m(\u001b[0m\u001b[0;34m'float64'\u001b[0m\u001b[0;34m)\u001b[0m\u001b[0;34m\u001b[0m\u001b[0;34m\u001b[0m\u001b[0m\n\u001b[0m",
            "\u001b[0;31mKeyError\u001b[0m: 'There are no fields in dtype float64.'"
          ]
        }
      ]
    },
    {
      "cell_type": "code",
      "metadata": {
        "colab": {
          "base_uri": "https://localhost:8080/",
          "height": 282
        },
        "id": "uyaumoS5OIDT",
        "outputId": "c1514535-d9c9-438c-a7a1-347b95525d5a"
      },
      "source": [
        "dfx = dfx.convert_objects(convert_numeric=True)"
      ],
      "execution_count": null,
      "outputs": [
        {
          "output_type": "error",
          "ename": "AttributeError",
          "evalue": "ignored",
          "traceback": [
            "\u001b[0;31m---------------------------------------------------------------------------\u001b[0m",
            "\u001b[0;31mAttributeError\u001b[0m                            Traceback (most recent call last)",
            "\u001b[0;32m<ipython-input-248-f0b3dea2e667>\u001b[0m in \u001b[0;36m<module>\u001b[0;34m()\u001b[0m\n\u001b[0;32m----> 1\u001b[0;31m \u001b[0mdfx\u001b[0m \u001b[0;34m=\u001b[0m \u001b[0mdfx\u001b[0m\u001b[0;34m.\u001b[0m\u001b[0mconvert_objects\u001b[0m\u001b[0;34m(\u001b[0m\u001b[0mconvert_numeric\u001b[0m\u001b[0;34m=\u001b[0m\u001b[0;32mTrue\u001b[0m\u001b[0;34m)\u001b[0m\u001b[0;34m\u001b[0m\u001b[0;34m\u001b[0m\u001b[0m\n\u001b[0m",
            "\u001b[0;32m/usr/local/lib/python3.7/dist-packages/pandas/core/generic.py\u001b[0m in \u001b[0;36m__getattr__\u001b[0;34m(self, name)\u001b[0m\n\u001b[1;32m   5139\u001b[0m             \u001b[0;32mif\u001b[0m \u001b[0mself\u001b[0m\u001b[0;34m.\u001b[0m\u001b[0m_info_axis\u001b[0m\u001b[0;34m.\u001b[0m\u001b[0m_can_hold_identifiers_and_holds_name\u001b[0m\u001b[0;34m(\u001b[0m\u001b[0mname\u001b[0m\u001b[0;34m)\u001b[0m\u001b[0;34m:\u001b[0m\u001b[0;34m\u001b[0m\u001b[0;34m\u001b[0m\u001b[0m\n\u001b[1;32m   5140\u001b[0m                 \u001b[0;32mreturn\u001b[0m \u001b[0mself\u001b[0m\u001b[0;34m[\u001b[0m\u001b[0mname\u001b[0m\u001b[0;34m]\u001b[0m\u001b[0;34m\u001b[0m\u001b[0;34m\u001b[0m\u001b[0m\n\u001b[0;32m-> 5141\u001b[0;31m             \u001b[0;32mreturn\u001b[0m \u001b[0mobject\u001b[0m\u001b[0;34m.\u001b[0m\u001b[0m__getattribute__\u001b[0m\u001b[0;34m(\u001b[0m\u001b[0mself\u001b[0m\u001b[0;34m,\u001b[0m \u001b[0mname\u001b[0m\u001b[0;34m)\u001b[0m\u001b[0;34m\u001b[0m\u001b[0;34m\u001b[0m\u001b[0m\n\u001b[0m\u001b[1;32m   5142\u001b[0m \u001b[0;34m\u001b[0m\u001b[0m\n\u001b[1;32m   5143\u001b[0m     \u001b[0;32mdef\u001b[0m \u001b[0m__setattr__\u001b[0m\u001b[0;34m(\u001b[0m\u001b[0mself\u001b[0m\u001b[0;34m,\u001b[0m \u001b[0mname\u001b[0m\u001b[0;34m:\u001b[0m \u001b[0mstr\u001b[0m\u001b[0;34m,\u001b[0m \u001b[0mvalue\u001b[0m\u001b[0;34m)\u001b[0m \u001b[0;34m->\u001b[0m \u001b[0;32mNone\u001b[0m\u001b[0;34m:\u001b[0m\u001b[0;34m\u001b[0m\u001b[0;34m\u001b[0m\u001b[0m\n",
            "\u001b[0;31mAttributeError\u001b[0m: 'DataFrame' object has no attribute 'convert_objects'"
          ]
        }
      ]
    },
    {
      "cell_type": "code",
      "metadata": {
        "id": "QOyfxRrxb_9e",
        "colab": {
          "base_uri": "https://localhost:8080/"
        },
        "outputId": "3ae0a012-45fb-463a-ed3b-22f04a9e3b95"
      },
      "source": [
        "df_without_duplicates = df['Banco'].drop_duplicates()\n",
        "df_without_duplicates.shape"
      ],
      "execution_count": null,
      "outputs": [
        {
          "output_type": "execute_result",
          "data": {
            "text/plain": [
              "(87,)"
            ]
          },
          "metadata": {
            "tags": []
          },
          "execution_count": 39
        }
      ]
    },
    {
      "cell_type": "code",
      "metadata": {
        "id": "_K3G3XE1Qs3s"
      },
      "source": [
        "encoder = OneHotEncoder()\n",
        "\n",
        "Y = pd.DataFrame(encoder.fit_transform(df[['Banco']]).todense(), \n",
        "                                columns=encoder.get_feature_names()).T\n",
        "\n",
        "# y= pd.get_dummies(df['Banco']).T\n",
        "\n",
        "#Y = df[\"Banco\"]\n",
        "# Y_train = to_categorical(Y, num_classes = 87)"
      ],
      "execution_count": null,
      "outputs": []
    },
    {
      "cell_type": "code",
      "metadata": {
        "colab": {
          "base_uri": "https://localhost:8080/"
        },
        "id": "szd6SKJ9dLom",
        "outputId": "5f677246-6f79-4983-8679-f4a605a20764"
      },
      "source": [
        "Y.shape "
      ],
      "execution_count": null,
      "outputs": [
        {
          "output_type": "execute_result",
          "data": {
            "text/plain": [
              "(87, 4678)"
            ]
          },
          "metadata": {
            "tags": []
          },
          "execution_count": 54
        }
      ]
    },
    {
      "cell_type": "code",
      "metadata": {
        "id": "1dkkQix2WnJK"
      },
      "source": [
        "X= dfx.T\n"
      ],
      "execution_count": null,
      "outputs": []
    },
    {
      "cell_type": "code",
      "metadata": {
        "colab": {
          "base_uri": "https://localhost:8080/"
        },
        "id": "KZKJWhZlRkqC",
        "outputId": "da7854cc-a91d-4afe-924d-90b88ac76c42"
      },
      "source": [
        "X.shape"
      ],
      "execution_count": null,
      "outputs": [
        {
          "output_type": "execute_result",
          "data": {
            "text/plain": [
              "(29, 4678)"
            ]
          },
          "metadata": {
            "tags": []
          },
          "execution_count": 56
        }
      ]
    },
    {
      "cell_type": "code",
      "metadata": {
        "id": "AcwEtCm5Qr8g",
        "colab": {
          "base_uri": "https://localhost:8080/",
          "height": 340
        },
        "outputId": "8a6b9217-dbaa-4b16-d9be-9101f2fd471e"
      },
      "source": [
        "# random_seed = 2\n",
        "# X_train, X_test, y_train, y_test = train_test_split(X, Y, test_size = 0.2,\n",
        "#                                                     random_state = random_seed)\n",
        "\n",
        "x_train, x_test, y_train, y_test = train_test_split(X, Y, test_size = 0.2, random_state = 0, stratify = Y)"
      ],
      "execution_count": null,
      "outputs": [
        {
          "output_type": "error",
          "ename": "ValueError",
          "evalue": "ignored",
          "traceback": [
            "\u001b[0;31m---------------------------------------------------------------------------\u001b[0m",
            "\u001b[0;31mValueError\u001b[0m                                Traceback (most recent call last)",
            "\u001b[0;32m<ipython-input-57-6cf7057e050a>\u001b[0m in \u001b[0;36m<module>\u001b[0;34m()\u001b[0m\n\u001b[1;32m      3\u001b[0m \u001b[0;31m#                                                     random_state = random_seed)\u001b[0m\u001b[0;34m\u001b[0m\u001b[0;34m\u001b[0m\u001b[0;34m\u001b[0m\u001b[0m\n\u001b[1;32m      4\u001b[0m \u001b[0;34m\u001b[0m\u001b[0m\n\u001b[0;32m----> 5\u001b[0;31m \u001b[0mx_train\u001b[0m\u001b[0;34m,\u001b[0m \u001b[0mx_test\u001b[0m\u001b[0;34m,\u001b[0m \u001b[0my_train\u001b[0m\u001b[0;34m,\u001b[0m \u001b[0my_test\u001b[0m \u001b[0;34m=\u001b[0m \u001b[0mtrain_test_split\u001b[0m\u001b[0;34m(\u001b[0m\u001b[0mX\u001b[0m\u001b[0;34m,\u001b[0m \u001b[0mY\u001b[0m\u001b[0;34m,\u001b[0m \u001b[0mtest_size\u001b[0m \u001b[0;34m=\u001b[0m \u001b[0;36m0.2\u001b[0m\u001b[0;34m,\u001b[0m \u001b[0mrandom_state\u001b[0m \u001b[0;34m=\u001b[0m \u001b[0;36m0\u001b[0m\u001b[0;34m,\u001b[0m \u001b[0mstratify\u001b[0m \u001b[0;34m=\u001b[0m \u001b[0mY\u001b[0m\u001b[0;34m)\u001b[0m\u001b[0;34m\u001b[0m\u001b[0;34m\u001b[0m\u001b[0m\n\u001b[0m",
            "\u001b[0;32m/usr/local/lib/python3.7/dist-packages/sklearn/model_selection/_split.py\u001b[0m in \u001b[0;36mtrain_test_split\u001b[0;34m(*arrays, **options)\u001b[0m\n\u001b[1;32m   2116\u001b[0m         \u001b[0;32mraise\u001b[0m \u001b[0mTypeError\u001b[0m\u001b[0;34m(\u001b[0m\u001b[0;34m\"Invalid parameters passed: %s\"\u001b[0m \u001b[0;34m%\u001b[0m \u001b[0mstr\u001b[0m\u001b[0;34m(\u001b[0m\u001b[0moptions\u001b[0m\u001b[0;34m)\u001b[0m\u001b[0;34m)\u001b[0m\u001b[0;34m\u001b[0m\u001b[0;34m\u001b[0m\u001b[0m\n\u001b[1;32m   2117\u001b[0m \u001b[0;34m\u001b[0m\u001b[0m\n\u001b[0;32m-> 2118\u001b[0;31m     \u001b[0marrays\u001b[0m \u001b[0;34m=\u001b[0m \u001b[0mindexable\u001b[0m\u001b[0;34m(\u001b[0m\u001b[0;34m*\u001b[0m\u001b[0marrays\u001b[0m\u001b[0;34m)\u001b[0m\u001b[0;34m\u001b[0m\u001b[0;34m\u001b[0m\u001b[0m\n\u001b[0m\u001b[1;32m   2119\u001b[0m \u001b[0;34m\u001b[0m\u001b[0m\n\u001b[1;32m   2120\u001b[0m     \u001b[0mn_samples\u001b[0m \u001b[0;34m=\u001b[0m \u001b[0m_num_samples\u001b[0m\u001b[0;34m(\u001b[0m\u001b[0marrays\u001b[0m\u001b[0;34m[\u001b[0m\u001b[0;36m0\u001b[0m\u001b[0;34m]\u001b[0m\u001b[0;34m)\u001b[0m\u001b[0;34m\u001b[0m\u001b[0;34m\u001b[0m\u001b[0m\n",
            "\u001b[0;32m/usr/local/lib/python3.7/dist-packages/sklearn/utils/validation.py\u001b[0m in \u001b[0;36mindexable\u001b[0;34m(*iterables)\u001b[0m\n\u001b[1;32m    246\u001b[0m     \"\"\"\n\u001b[1;32m    247\u001b[0m     \u001b[0mresult\u001b[0m \u001b[0;34m=\u001b[0m \u001b[0;34m[\u001b[0m\u001b[0m_make_indexable\u001b[0m\u001b[0;34m(\u001b[0m\u001b[0mX\u001b[0m\u001b[0;34m)\u001b[0m \u001b[0;32mfor\u001b[0m \u001b[0mX\u001b[0m \u001b[0;32min\u001b[0m \u001b[0miterables\u001b[0m\u001b[0;34m]\u001b[0m\u001b[0;34m\u001b[0m\u001b[0;34m\u001b[0m\u001b[0m\n\u001b[0;32m--> 248\u001b[0;31m     \u001b[0mcheck_consistent_length\u001b[0m\u001b[0;34m(\u001b[0m\u001b[0;34m*\u001b[0m\u001b[0mresult\u001b[0m\u001b[0;34m)\u001b[0m\u001b[0;34m\u001b[0m\u001b[0;34m\u001b[0m\u001b[0m\n\u001b[0m\u001b[1;32m    249\u001b[0m     \u001b[0;32mreturn\u001b[0m \u001b[0mresult\u001b[0m\u001b[0;34m\u001b[0m\u001b[0;34m\u001b[0m\u001b[0m\n\u001b[1;32m    250\u001b[0m \u001b[0;34m\u001b[0m\u001b[0m\n",
            "\u001b[0;32m/usr/local/lib/python3.7/dist-packages/sklearn/utils/validation.py\u001b[0m in \u001b[0;36mcheck_consistent_length\u001b[0;34m(*arrays)\u001b[0m\n\u001b[1;32m    210\u001b[0m     \u001b[0;32mif\u001b[0m \u001b[0mlen\u001b[0m\u001b[0;34m(\u001b[0m\u001b[0muniques\u001b[0m\u001b[0;34m)\u001b[0m \u001b[0;34m>\u001b[0m \u001b[0;36m1\u001b[0m\u001b[0;34m:\u001b[0m\u001b[0;34m\u001b[0m\u001b[0;34m\u001b[0m\u001b[0m\n\u001b[1;32m    211\u001b[0m         raise ValueError(\"Found input variables with inconsistent numbers of\"\n\u001b[0;32m--> 212\u001b[0;31m                          \" samples: %r\" % [int(l) for l in lengths])\n\u001b[0m\u001b[1;32m    213\u001b[0m \u001b[0;34m\u001b[0m\u001b[0m\n\u001b[1;32m    214\u001b[0m \u001b[0;34m\u001b[0m\u001b[0m\n",
            "\u001b[0;31mValueError\u001b[0m: Found input variables with inconsistent numbers of samples: [29, 87]"
          ]
        }
      ]
    },
    {
      "cell_type": "code",
      "metadata": {
        "colab": {
          "base_uri": "https://localhost:8080/"
        },
        "id": "qUkeQQGxEnoD",
        "outputId": "b7ce251b-6cf0-4729-bdc0-3d89ce767249"
      },
      "source": [
        "x_train.shape\n",
        "# x_train.head()"
      ],
      "execution_count": null,
      "outputs": [
        {
          "output_type": "execute_result",
          "data": {
            "text/plain": [
              "(3742, 29)"
            ]
          },
          "metadata": {
            "tags": []
          },
          "execution_count": 45
        }
      ]
    },
    {
      "cell_type": "code",
      "metadata": {
        "colab": {
          "base_uri": "https://localhost:8080/"
        },
        "id": "7DZ9dHOwEne0",
        "outputId": "dc4c3196-d49b-49dc-bec5-6a493866cb32"
      },
      "source": [
        "x_test.shape"
      ],
      "execution_count": null,
      "outputs": [
        {
          "output_type": "execute_result",
          "data": {
            "text/plain": [
              "(936, 29)"
            ]
          },
          "metadata": {
            "tags": []
          },
          "execution_count": 46
        }
      ]
    },
    {
      "cell_type": "code",
      "metadata": {
        "id": "k-8WHFbnIgkD"
      },
      "source": [
        ""
      ],
      "execution_count": null,
      "outputs": []
    },
    {
      "cell_type": "code",
      "metadata": {
        "id": "nvNhTobIE0Ju"
      },
      "source": [
        "scaler = StandardScaler()\n",
        "x_train = scaler.fit_transform(x_train)\n",
        "x_test = scaler.transform(x_test)"
      ],
      "execution_count": null,
      "outputs": []
    },
    {
      "cell_type": "code",
      "metadata": {
        "id": "5jo_atmpE0GG"
      },
      "source": [
        "x_train = x_train.reshape(3742,29,1)\n",
        "x_test = x_test.reshape(936,29,1)"
      ],
      "execution_count": null,
      "outputs": []
    },
    {
      "cell_type": "code",
      "metadata": {
        "id": "xNSX_SuwE0DB"
      },
      "source": [
        "epochs = 50\n",
        "model = Sequential()\n",
        "model.add(Conv1D(filters=32, kernel_size=2, activation='relu', input_shape = (30,1)))\n",
        "model.add(BatchNormalization())\n",
        "model.add(Dropout(0.2))\n",
        "\n",
        "model.add(Conv1D(filters=64, kernel_size=2, activation='relu'))\n",
        "model.add(BatchNormalization())\n",
        "model.add(Dropout(0.5))\n",
        "\n",
        "model.add(Flatten())\n",
        "model.add(Dense(64, activation='relu'))\n",
        "model.add(Dropout(0.5))\n",
        "\n",
        "model.add(Dense(1, activation='sigmoid'))\n"
      ],
      "execution_count": null,
      "outputs": []
    },
    {
      "cell_type": "code",
      "metadata": {
        "colab": {
          "base_uri": "https://localhost:8080/"
        },
        "id": "fr72EFllEz3g",
        "outputId": "2f585447-bbcb-4e35-a5fb-421ee2656a6a"
      },
      "source": [
        "model.summary()"
      ],
      "execution_count": null,
      "outputs": [
        {
          "output_type": "stream",
          "text": [
            "Model: \"sequential\"\n",
            "_________________________________________________________________\n",
            "Layer (type)                 Output Shape              Param #   \n",
            "=================================================================\n",
            "conv1d (Conv1D)              (None, 29, 32)            96        \n",
            "_________________________________________________________________\n",
            "batch_normalization (BatchNo (None, 29, 32)            128       \n",
            "_________________________________________________________________\n",
            "dropout (Dropout)            (None, 29, 32)            0         \n",
            "_________________________________________________________________\n",
            "conv1d_1 (Conv1D)            (None, 28, 64)            4160      \n",
            "_________________________________________________________________\n",
            "batch_normalization_1 (Batch (None, 28, 64)            256       \n",
            "_________________________________________________________________\n",
            "dropout_1 (Dropout)          (None, 28, 64)            0         \n",
            "_________________________________________________________________\n",
            "flatten (Flatten)            (None, 1792)              0         \n",
            "_________________________________________________________________\n",
            "dense (Dense)                (None, 64)                114752    \n",
            "_________________________________________________________________\n",
            "dropout_2 (Dropout)          (None, 64)                0         \n",
            "_________________________________________________________________\n",
            "dense_1 (Dense)              (None, 1)                 65        \n",
            "=================================================================\n",
            "Total params: 119,457\n",
            "Trainable params: 119,265\n",
            "Non-trainable params: 192\n",
            "_________________________________________________________________\n"
          ],
          "name": "stdout"
        }
      ]
    },
    {
      "cell_type": "code",
      "metadata": {
        "id": "_nt51Rw6JCLh"
      },
      "source": [
        "model.compile(optimizer=Adam(lr=0.00005), loss='binary_crossentropy', metrics=['accuracy'])"
      ],
      "execution_count": null,
      "outputs": []
    },
    {
      "cell_type": "code",
      "metadata": {
        "id": "uN5xhxd6JCH9",
        "colab": {
          "base_uri": "https://localhost:8080/",
          "height": 853
        },
        "outputId": "decca251-bfd3-4600-911f-5576757970e2"
      },
      "source": [
        "history = model.fit(x_train, y_train, epochs= epochs, validation_data=(x_test, y_test), verbose=1) "
      ],
      "execution_count": null,
      "outputs": [
        {
          "output_type": "stream",
          "text": [
            "Epoch 1/50\n",
            "WARNING:tensorflow:Model was constructed with shape (None, 30, 1) for input KerasTensor(type_spec=TensorSpec(shape=(None, 30, 1), dtype=tf.float32, name='conv1d_input'), name='conv1d_input', description=\"created by layer 'conv1d_input'\"), but it was called on an input with incompatible shape (None, 29, 1).\n"
          ],
          "name": "stdout"
        },
        {
          "output_type": "error",
          "ename": "ValueError",
          "evalue": "ignored",
          "traceback": [
            "\u001b[0;31m---------------------------------------------------------------------------\u001b[0m",
            "\u001b[0;31mValueError\u001b[0m                                Traceback (most recent call last)",
            "\u001b[0;32m<ipython-input-52-59ce7d35c909>\u001b[0m in \u001b[0;36m<module>\u001b[0;34m()\u001b[0m\n\u001b[0;32m----> 1\u001b[0;31m \u001b[0mhistory\u001b[0m \u001b[0;34m=\u001b[0m \u001b[0mmodel\u001b[0m\u001b[0;34m.\u001b[0m\u001b[0mfit\u001b[0m\u001b[0;34m(\u001b[0m\u001b[0mx_train\u001b[0m\u001b[0;34m,\u001b[0m \u001b[0my_train\u001b[0m\u001b[0;34m,\u001b[0m \u001b[0mepochs\u001b[0m\u001b[0;34m=\u001b[0m \u001b[0mepochs\u001b[0m\u001b[0;34m,\u001b[0m \u001b[0mvalidation_data\u001b[0m\u001b[0;34m=\u001b[0m\u001b[0;34m(\u001b[0m\u001b[0mx_test\u001b[0m\u001b[0;34m,\u001b[0m \u001b[0my_test\u001b[0m\u001b[0;34m)\u001b[0m\u001b[0;34m,\u001b[0m \u001b[0mverbose\u001b[0m\u001b[0;34m=\u001b[0m\u001b[0;36m1\u001b[0m\u001b[0;34m)\u001b[0m\u001b[0;34m\u001b[0m\u001b[0;34m\u001b[0m\u001b[0m\n\u001b[0m",
            "\u001b[0;32m/usr/local/lib/python3.7/dist-packages/tensorflow/python/keras/engine/training.py\u001b[0m in \u001b[0;36mfit\u001b[0;34m(self, x, y, batch_size, epochs, verbose, callbacks, validation_split, validation_data, shuffle, class_weight, sample_weight, initial_epoch, steps_per_epoch, validation_steps, validation_batch_size, validation_freq, max_queue_size, workers, use_multiprocessing)\u001b[0m\n\u001b[1;32m   1098\u001b[0m                 _r=1):\n\u001b[1;32m   1099\u001b[0m               \u001b[0mcallbacks\u001b[0m\u001b[0;34m.\u001b[0m\u001b[0mon_train_batch_begin\u001b[0m\u001b[0;34m(\u001b[0m\u001b[0mstep\u001b[0m\u001b[0;34m)\u001b[0m\u001b[0;34m\u001b[0m\u001b[0;34m\u001b[0m\u001b[0m\n\u001b[0;32m-> 1100\u001b[0;31m               \u001b[0mtmp_logs\u001b[0m \u001b[0;34m=\u001b[0m \u001b[0mself\u001b[0m\u001b[0;34m.\u001b[0m\u001b[0mtrain_function\u001b[0m\u001b[0;34m(\u001b[0m\u001b[0miterator\u001b[0m\u001b[0;34m)\u001b[0m\u001b[0;34m\u001b[0m\u001b[0;34m\u001b[0m\u001b[0m\n\u001b[0m\u001b[1;32m   1101\u001b[0m               \u001b[0;32mif\u001b[0m \u001b[0mdata_handler\u001b[0m\u001b[0;34m.\u001b[0m\u001b[0mshould_sync\u001b[0m\u001b[0;34m:\u001b[0m\u001b[0;34m\u001b[0m\u001b[0;34m\u001b[0m\u001b[0m\n\u001b[1;32m   1102\u001b[0m                 \u001b[0mcontext\u001b[0m\u001b[0;34m.\u001b[0m\u001b[0masync_wait\u001b[0m\u001b[0;34m(\u001b[0m\u001b[0;34m)\u001b[0m\u001b[0;34m\u001b[0m\u001b[0;34m\u001b[0m\u001b[0m\n",
            "\u001b[0;32m/usr/local/lib/python3.7/dist-packages/tensorflow/python/eager/def_function.py\u001b[0m in \u001b[0;36m__call__\u001b[0;34m(self, *args, **kwds)\u001b[0m\n\u001b[1;32m    826\u001b[0m     \u001b[0mtracing_count\u001b[0m \u001b[0;34m=\u001b[0m \u001b[0mself\u001b[0m\u001b[0;34m.\u001b[0m\u001b[0mexperimental_get_tracing_count\u001b[0m\u001b[0;34m(\u001b[0m\u001b[0;34m)\u001b[0m\u001b[0;34m\u001b[0m\u001b[0;34m\u001b[0m\u001b[0m\n\u001b[1;32m    827\u001b[0m     \u001b[0;32mwith\u001b[0m \u001b[0mtrace\u001b[0m\u001b[0;34m.\u001b[0m\u001b[0mTrace\u001b[0m\u001b[0;34m(\u001b[0m\u001b[0mself\u001b[0m\u001b[0;34m.\u001b[0m\u001b[0m_name\u001b[0m\u001b[0;34m)\u001b[0m \u001b[0;32mas\u001b[0m \u001b[0mtm\u001b[0m\u001b[0;34m:\u001b[0m\u001b[0;34m\u001b[0m\u001b[0;34m\u001b[0m\u001b[0m\n\u001b[0;32m--> 828\u001b[0;31m       \u001b[0mresult\u001b[0m \u001b[0;34m=\u001b[0m \u001b[0mself\u001b[0m\u001b[0;34m.\u001b[0m\u001b[0m_call\u001b[0m\u001b[0;34m(\u001b[0m\u001b[0;34m*\u001b[0m\u001b[0margs\u001b[0m\u001b[0;34m,\u001b[0m \u001b[0;34m**\u001b[0m\u001b[0mkwds\u001b[0m\u001b[0;34m)\u001b[0m\u001b[0;34m\u001b[0m\u001b[0;34m\u001b[0m\u001b[0m\n\u001b[0m\u001b[1;32m    829\u001b[0m       \u001b[0mcompiler\u001b[0m \u001b[0;34m=\u001b[0m \u001b[0;34m\"xla\"\u001b[0m \u001b[0;32mif\u001b[0m \u001b[0mself\u001b[0m\u001b[0;34m.\u001b[0m\u001b[0m_experimental_compile\u001b[0m \u001b[0;32melse\u001b[0m \u001b[0;34m\"nonXla\"\u001b[0m\u001b[0;34m\u001b[0m\u001b[0;34m\u001b[0m\u001b[0m\n\u001b[1;32m    830\u001b[0m       \u001b[0mnew_tracing_count\u001b[0m \u001b[0;34m=\u001b[0m \u001b[0mself\u001b[0m\u001b[0;34m.\u001b[0m\u001b[0mexperimental_get_tracing_count\u001b[0m\u001b[0;34m(\u001b[0m\u001b[0;34m)\u001b[0m\u001b[0;34m\u001b[0m\u001b[0;34m\u001b[0m\u001b[0m\n",
            "\u001b[0;32m/usr/local/lib/python3.7/dist-packages/tensorflow/python/eager/def_function.py\u001b[0m in \u001b[0;36m_call\u001b[0;34m(self, *args, **kwds)\u001b[0m\n\u001b[1;32m    869\u001b[0m       \u001b[0;31m# This is the first call of __call__, so we have to initialize.\u001b[0m\u001b[0;34m\u001b[0m\u001b[0;34m\u001b[0m\u001b[0;34m\u001b[0m\u001b[0m\n\u001b[1;32m    870\u001b[0m       \u001b[0minitializers\u001b[0m \u001b[0;34m=\u001b[0m \u001b[0;34m[\u001b[0m\u001b[0;34m]\u001b[0m\u001b[0;34m\u001b[0m\u001b[0;34m\u001b[0m\u001b[0m\n\u001b[0;32m--> 871\u001b[0;31m       \u001b[0mself\u001b[0m\u001b[0;34m.\u001b[0m\u001b[0m_initialize\u001b[0m\u001b[0;34m(\u001b[0m\u001b[0margs\u001b[0m\u001b[0;34m,\u001b[0m \u001b[0mkwds\u001b[0m\u001b[0;34m,\u001b[0m \u001b[0madd_initializers_to\u001b[0m\u001b[0;34m=\u001b[0m\u001b[0minitializers\u001b[0m\u001b[0;34m)\u001b[0m\u001b[0;34m\u001b[0m\u001b[0;34m\u001b[0m\u001b[0m\n\u001b[0m\u001b[1;32m    872\u001b[0m     \u001b[0;32mfinally\u001b[0m\u001b[0;34m:\u001b[0m\u001b[0;34m\u001b[0m\u001b[0;34m\u001b[0m\u001b[0m\n\u001b[1;32m    873\u001b[0m       \u001b[0;31m# At this point we know that the initialization is complete (or less\u001b[0m\u001b[0;34m\u001b[0m\u001b[0;34m\u001b[0m\u001b[0;34m\u001b[0m\u001b[0m\n",
            "\u001b[0;32m/usr/local/lib/python3.7/dist-packages/tensorflow/python/eager/def_function.py\u001b[0m in \u001b[0;36m_initialize\u001b[0;34m(self, args, kwds, add_initializers_to)\u001b[0m\n\u001b[1;32m    724\u001b[0m     self._concrete_stateful_fn = (\n\u001b[1;32m    725\u001b[0m         self._stateful_fn._get_concrete_function_internal_garbage_collected(  # pylint: disable=protected-access\n\u001b[0;32m--> 726\u001b[0;31m             *args, **kwds))\n\u001b[0m\u001b[1;32m    727\u001b[0m \u001b[0;34m\u001b[0m\u001b[0m\n\u001b[1;32m    728\u001b[0m     \u001b[0;32mdef\u001b[0m \u001b[0minvalid_creator_scope\u001b[0m\u001b[0;34m(\u001b[0m\u001b[0;34m*\u001b[0m\u001b[0munused_args\u001b[0m\u001b[0;34m,\u001b[0m \u001b[0;34m**\u001b[0m\u001b[0munused_kwds\u001b[0m\u001b[0;34m)\u001b[0m\u001b[0;34m:\u001b[0m\u001b[0;34m\u001b[0m\u001b[0;34m\u001b[0m\u001b[0m\n",
            "\u001b[0;32m/usr/local/lib/python3.7/dist-packages/tensorflow/python/eager/function.py\u001b[0m in \u001b[0;36m_get_concrete_function_internal_garbage_collected\u001b[0;34m(self, *args, **kwargs)\u001b[0m\n\u001b[1;32m   2967\u001b[0m       \u001b[0margs\u001b[0m\u001b[0;34m,\u001b[0m \u001b[0mkwargs\u001b[0m \u001b[0;34m=\u001b[0m \u001b[0;32mNone\u001b[0m\u001b[0;34m,\u001b[0m \u001b[0;32mNone\u001b[0m\u001b[0;34m\u001b[0m\u001b[0;34m\u001b[0m\u001b[0m\n\u001b[1;32m   2968\u001b[0m     \u001b[0;32mwith\u001b[0m \u001b[0mself\u001b[0m\u001b[0;34m.\u001b[0m\u001b[0m_lock\u001b[0m\u001b[0;34m:\u001b[0m\u001b[0;34m\u001b[0m\u001b[0;34m\u001b[0m\u001b[0m\n\u001b[0;32m-> 2969\u001b[0;31m       \u001b[0mgraph_function\u001b[0m\u001b[0;34m,\u001b[0m \u001b[0m_\u001b[0m \u001b[0;34m=\u001b[0m \u001b[0mself\u001b[0m\u001b[0;34m.\u001b[0m\u001b[0m_maybe_define_function\u001b[0m\u001b[0;34m(\u001b[0m\u001b[0margs\u001b[0m\u001b[0;34m,\u001b[0m \u001b[0mkwargs\u001b[0m\u001b[0;34m)\u001b[0m\u001b[0;34m\u001b[0m\u001b[0;34m\u001b[0m\u001b[0m\n\u001b[0m\u001b[1;32m   2970\u001b[0m     \u001b[0;32mreturn\u001b[0m \u001b[0mgraph_function\u001b[0m\u001b[0;34m\u001b[0m\u001b[0;34m\u001b[0m\u001b[0m\n\u001b[1;32m   2971\u001b[0m \u001b[0;34m\u001b[0m\u001b[0m\n",
            "\u001b[0;32m/usr/local/lib/python3.7/dist-packages/tensorflow/python/eager/function.py\u001b[0m in \u001b[0;36m_maybe_define_function\u001b[0;34m(self, args, kwargs)\u001b[0m\n\u001b[1;32m   3359\u001b[0m \u001b[0;34m\u001b[0m\u001b[0m\n\u001b[1;32m   3360\u001b[0m           \u001b[0mself\u001b[0m\u001b[0;34m.\u001b[0m\u001b[0m_function_cache\u001b[0m\u001b[0;34m.\u001b[0m\u001b[0mmissed\u001b[0m\u001b[0;34m.\u001b[0m\u001b[0madd\u001b[0m\u001b[0;34m(\u001b[0m\u001b[0mcall_context_key\u001b[0m\u001b[0;34m)\u001b[0m\u001b[0;34m\u001b[0m\u001b[0;34m\u001b[0m\u001b[0m\n\u001b[0;32m-> 3361\u001b[0;31m           \u001b[0mgraph_function\u001b[0m \u001b[0;34m=\u001b[0m \u001b[0mself\u001b[0m\u001b[0;34m.\u001b[0m\u001b[0m_create_graph_function\u001b[0m\u001b[0;34m(\u001b[0m\u001b[0margs\u001b[0m\u001b[0;34m,\u001b[0m \u001b[0mkwargs\u001b[0m\u001b[0;34m)\u001b[0m\u001b[0;34m\u001b[0m\u001b[0;34m\u001b[0m\u001b[0m\n\u001b[0m\u001b[1;32m   3362\u001b[0m           \u001b[0mself\u001b[0m\u001b[0;34m.\u001b[0m\u001b[0m_function_cache\u001b[0m\u001b[0;34m.\u001b[0m\u001b[0mprimary\u001b[0m\u001b[0;34m[\u001b[0m\u001b[0mcache_key\u001b[0m\u001b[0;34m]\u001b[0m \u001b[0;34m=\u001b[0m \u001b[0mgraph_function\u001b[0m\u001b[0;34m\u001b[0m\u001b[0;34m\u001b[0m\u001b[0m\n\u001b[1;32m   3363\u001b[0m \u001b[0;34m\u001b[0m\u001b[0m\n",
            "\u001b[0;32m/usr/local/lib/python3.7/dist-packages/tensorflow/python/eager/function.py\u001b[0m in \u001b[0;36m_create_graph_function\u001b[0;34m(self, args, kwargs, override_flat_arg_shapes)\u001b[0m\n\u001b[1;32m   3204\u001b[0m             \u001b[0marg_names\u001b[0m\u001b[0;34m=\u001b[0m\u001b[0marg_names\u001b[0m\u001b[0;34m,\u001b[0m\u001b[0;34m\u001b[0m\u001b[0;34m\u001b[0m\u001b[0m\n\u001b[1;32m   3205\u001b[0m             \u001b[0moverride_flat_arg_shapes\u001b[0m\u001b[0;34m=\u001b[0m\u001b[0moverride_flat_arg_shapes\u001b[0m\u001b[0;34m,\u001b[0m\u001b[0;34m\u001b[0m\u001b[0;34m\u001b[0m\u001b[0m\n\u001b[0;32m-> 3206\u001b[0;31m             capture_by_value=self._capture_by_value),\n\u001b[0m\u001b[1;32m   3207\u001b[0m         \u001b[0mself\u001b[0m\u001b[0;34m.\u001b[0m\u001b[0m_function_attributes\u001b[0m\u001b[0;34m,\u001b[0m\u001b[0;34m\u001b[0m\u001b[0;34m\u001b[0m\u001b[0m\n\u001b[1;32m   3208\u001b[0m         \u001b[0mfunction_spec\u001b[0m\u001b[0;34m=\u001b[0m\u001b[0mself\u001b[0m\u001b[0;34m.\u001b[0m\u001b[0mfunction_spec\u001b[0m\u001b[0;34m,\u001b[0m\u001b[0;34m\u001b[0m\u001b[0;34m\u001b[0m\u001b[0m\n",
            "\u001b[0;32m/usr/local/lib/python3.7/dist-packages/tensorflow/python/framework/func_graph.py\u001b[0m in \u001b[0;36mfunc_graph_from_py_func\u001b[0;34m(name, python_func, args, kwargs, signature, func_graph, autograph, autograph_options, add_control_dependencies, arg_names, op_return_value, collections, capture_by_value, override_flat_arg_shapes)\u001b[0m\n\u001b[1;32m    988\u001b[0m         \u001b[0m_\u001b[0m\u001b[0;34m,\u001b[0m \u001b[0moriginal_func\u001b[0m \u001b[0;34m=\u001b[0m \u001b[0mtf_decorator\u001b[0m\u001b[0;34m.\u001b[0m\u001b[0munwrap\u001b[0m\u001b[0;34m(\u001b[0m\u001b[0mpython_func\u001b[0m\u001b[0;34m)\u001b[0m\u001b[0;34m\u001b[0m\u001b[0;34m\u001b[0m\u001b[0m\n\u001b[1;32m    989\u001b[0m \u001b[0;34m\u001b[0m\u001b[0m\n\u001b[0;32m--> 990\u001b[0;31m       \u001b[0mfunc_outputs\u001b[0m \u001b[0;34m=\u001b[0m \u001b[0mpython_func\u001b[0m\u001b[0;34m(\u001b[0m\u001b[0;34m*\u001b[0m\u001b[0mfunc_args\u001b[0m\u001b[0;34m,\u001b[0m \u001b[0;34m**\u001b[0m\u001b[0mfunc_kwargs\u001b[0m\u001b[0;34m)\u001b[0m\u001b[0;34m\u001b[0m\u001b[0;34m\u001b[0m\u001b[0m\n\u001b[0m\u001b[1;32m    991\u001b[0m \u001b[0;34m\u001b[0m\u001b[0m\n\u001b[1;32m    992\u001b[0m       \u001b[0;31m# invariant: `func_outputs` contains only Tensors, CompositeTensors,\u001b[0m\u001b[0;34m\u001b[0m\u001b[0;34m\u001b[0m\u001b[0;34m\u001b[0m\u001b[0m\n",
            "\u001b[0;32m/usr/local/lib/python3.7/dist-packages/tensorflow/python/eager/def_function.py\u001b[0m in \u001b[0;36mwrapped_fn\u001b[0;34m(*args, **kwds)\u001b[0m\n\u001b[1;32m    632\u001b[0m             \u001b[0mxla_context\u001b[0m\u001b[0;34m.\u001b[0m\u001b[0mExit\u001b[0m\u001b[0;34m(\u001b[0m\u001b[0;34m)\u001b[0m\u001b[0;34m\u001b[0m\u001b[0;34m\u001b[0m\u001b[0m\n\u001b[1;32m    633\u001b[0m         \u001b[0;32melse\u001b[0m\u001b[0;34m:\u001b[0m\u001b[0;34m\u001b[0m\u001b[0;34m\u001b[0m\u001b[0m\n\u001b[0;32m--> 634\u001b[0;31m           \u001b[0mout\u001b[0m \u001b[0;34m=\u001b[0m \u001b[0mweak_wrapped_fn\u001b[0m\u001b[0;34m(\u001b[0m\u001b[0;34m)\u001b[0m\u001b[0;34m.\u001b[0m\u001b[0m__wrapped__\u001b[0m\u001b[0;34m(\u001b[0m\u001b[0;34m*\u001b[0m\u001b[0margs\u001b[0m\u001b[0;34m,\u001b[0m \u001b[0;34m**\u001b[0m\u001b[0mkwds\u001b[0m\u001b[0;34m)\u001b[0m\u001b[0;34m\u001b[0m\u001b[0;34m\u001b[0m\u001b[0m\n\u001b[0m\u001b[1;32m    635\u001b[0m         \u001b[0;32mreturn\u001b[0m \u001b[0mout\u001b[0m\u001b[0;34m\u001b[0m\u001b[0;34m\u001b[0m\u001b[0m\n\u001b[1;32m    636\u001b[0m \u001b[0;34m\u001b[0m\u001b[0m\n",
            "\u001b[0;32m/usr/local/lib/python3.7/dist-packages/tensorflow/python/framework/func_graph.py\u001b[0m in \u001b[0;36mwrapper\u001b[0;34m(*args, **kwargs)\u001b[0m\n\u001b[1;32m    975\u001b[0m           \u001b[0;32mexcept\u001b[0m \u001b[0mException\u001b[0m \u001b[0;32mas\u001b[0m \u001b[0me\u001b[0m\u001b[0;34m:\u001b[0m  \u001b[0;31m# pylint:disable=broad-except\u001b[0m\u001b[0;34m\u001b[0m\u001b[0;34m\u001b[0m\u001b[0m\n\u001b[1;32m    976\u001b[0m             \u001b[0;32mif\u001b[0m \u001b[0mhasattr\u001b[0m\u001b[0;34m(\u001b[0m\u001b[0me\u001b[0m\u001b[0;34m,\u001b[0m \u001b[0;34m\"ag_error_metadata\"\u001b[0m\u001b[0;34m)\u001b[0m\u001b[0;34m:\u001b[0m\u001b[0;34m\u001b[0m\u001b[0;34m\u001b[0m\u001b[0m\n\u001b[0;32m--> 977\u001b[0;31m               \u001b[0;32mraise\u001b[0m \u001b[0me\u001b[0m\u001b[0;34m.\u001b[0m\u001b[0mag_error_metadata\u001b[0m\u001b[0;34m.\u001b[0m\u001b[0mto_exception\u001b[0m\u001b[0;34m(\u001b[0m\u001b[0me\u001b[0m\u001b[0;34m)\u001b[0m\u001b[0;34m\u001b[0m\u001b[0;34m\u001b[0m\u001b[0m\n\u001b[0m\u001b[1;32m    978\u001b[0m             \u001b[0;32melse\u001b[0m\u001b[0;34m:\u001b[0m\u001b[0;34m\u001b[0m\u001b[0;34m\u001b[0m\u001b[0m\n\u001b[1;32m    979\u001b[0m               \u001b[0;32mraise\u001b[0m\u001b[0;34m\u001b[0m\u001b[0;34m\u001b[0m\u001b[0m\n",
            "\u001b[0;31mValueError\u001b[0m: in user code:\n\n    /usr/local/lib/python3.7/dist-packages/tensorflow/python/keras/engine/training.py:805 train_function  *\n        return step_function(self, iterator)\n    /usr/local/lib/python3.7/dist-packages/tensorflow/python/keras/engine/training.py:795 step_function  **\n        outputs = model.distribute_strategy.run(run_step, args=(data,))\n    /usr/local/lib/python3.7/dist-packages/tensorflow/python/distribute/distribute_lib.py:1259 run\n        return self._extended.call_for_each_replica(fn, args=args, kwargs=kwargs)\n    /usr/local/lib/python3.7/dist-packages/tensorflow/python/distribute/distribute_lib.py:2730 call_for_each_replica\n        return self._call_for_each_replica(fn, args, kwargs)\n    /usr/local/lib/python3.7/dist-packages/tensorflow/python/distribute/distribute_lib.py:3417 _call_for_each_replica\n        return fn(*args, **kwargs)\n    /usr/local/lib/python3.7/dist-packages/tensorflow/python/keras/engine/training.py:788 run_step  **\n        outputs = model.train_step(data)\n    /usr/local/lib/python3.7/dist-packages/tensorflow/python/keras/engine/training.py:754 train_step\n        y_pred = self(x, training=True)\n    /usr/local/lib/python3.7/dist-packages/tensorflow/python/keras/engine/base_layer.py:1012 __call__\n        outputs = call_fn(inputs, *args, **kwargs)\n    /usr/local/lib/python3.7/dist-packages/tensorflow/python/keras/engine/sequential.py:375 call\n        return super(Sequential, self).call(inputs, training=training, mask=mask)\n    /usr/local/lib/python3.7/dist-packages/tensorflow/python/keras/engine/functional.py:425 call\n        inputs, training=training, mask=mask)\n    /usr/local/lib/python3.7/dist-packages/tensorflow/python/keras/engine/functional.py:560 _run_internal_graph\n        outputs = node.layer(*args, **kwargs)\n    /usr/local/lib/python3.7/dist-packages/tensorflow/python/keras/engine/base_layer.py:998 __call__\n        input_spec.assert_input_compatibility(self.input_spec, inputs, self.name)\n    /usr/local/lib/python3.7/dist-packages/tensorflow/python/keras/engine/input_spec.py:259 assert_input_compatibility\n        ' but received input with shape ' + display_shape(x.shape))\n\n    ValueError: Input 0 of layer dense is incompatible with the layer: expected axis -1 of input shape to have value 1792 but received input with shape (None, 1728)\n"
          ]
        }
      ]
    },
    {
      "cell_type": "code",
      "metadata": {
        "id": "N7HmvFvJ05mI"
      },
      "source": [
        ""
      ],
      "execution_count": null,
      "outputs": []
    },
    {
      "cell_type": "code",
      "metadata": {
        "id": "hYdNn9qO05eR"
      },
      "source": [
        ""
      ],
      "execution_count": null,
      "outputs": []
    },
    {
      "cell_type": "code",
      "metadata": {
        "id": "i5YRpGZg05Qu"
      },
      "source": [
        ""
      ],
      "execution_count": null,
      "outputs": []
    }
  ]
}